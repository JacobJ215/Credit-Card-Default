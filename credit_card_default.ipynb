{
 "cells": [
  {
   "cell_type": "markdown",
   "metadata": {},
   "source": [
    "### Credit Card Default Prediction"
   ]
  },
  {
   "cell_type": "markdown",
   "metadata": {},
   "source": [
    "Delinquent in general is a slightly mild term where a borrower is not repaying charges and is behind by certain months whereas Default is a term where a borrower has not been able to pay charges and is behind for a long period of months and is unlikely to repay the charges.\n",
    "\n",
    "This case study is about identifying the borrowers who are likely to default in the next two years with serious delinquency of having delinquent more than 3 months.\n",
    "\n",
    "##### Objective\n",
    "Building a model using the inputs/attributes which are general profile and historical records of a borrower to predict whether one is likely to have serious delinquency in the next 2 years"
   ]
  },
  {
   "cell_type": "markdown",
   "metadata": {},
   "source": [
    "#### Import Libraries"
   ]
  },
  {
   "cell_type": "code",
   "execution_count": 1,
   "metadata": {},
   "outputs": [],
   "source": [
    "import pandas as pd\n",
    "import numpy as np\n",
    "import matplotlib.pyplot as plt\n",
    "import seaborn as sns\n",
    "\n",
    "from sklearn.compose import ColumnTransformer\n",
    "from sklearn.pipeline import Pipeline\n",
    "from sklearn.preprocessing import StandardScaler, OneHotEncoder\n",
    "from sklearn.model_selection import train_test_split, GridSearchCV\n",
    "from sklearn.metrics import accuracy_score, roc_auc_score, classification_report, confusion_matrix\n",
    "\n",
    "from sklearn.linear_model import LogisticRegression\n",
    "from sklearn.svm import SVC\n",
    "from sklearn.tree import DecisionTreeClassifier\n",
    "from sklearn.ensemble import RandomForestClassifier, AdaBoostClassifier\n",
    "from xgboost import XGBClassifier\n",
    "from lightgbm import LGBMClassifier\n",
    "\n",
    "# Ignore all warnings\n",
    "import warnings\n",
    "warnings.filterwarnings('ignore')\n",
    "warnings.filterwarnings(action='ignore', category=DeprecationWarning)\n",
    "\n",
    "# Display all rows and columns of a dataframe \n",
    "from IPython.display import display\n",
    "pd.set_option('display.max_columns', None)\n",
    "pd.set_option('display.max_rows', None)"
   ]
  },
  {
   "cell_type": "markdown",
   "metadata": {},
   "source": [
    "#### Load Data"
   ]
  },
  {
   "cell_type": "code",
   "execution_count": 2,
   "metadata": {},
   "outputs": [
    {
     "data": {
      "text/html": [
       "<div>\n",
       "<style scoped>\n",
       "    .dataframe tbody tr th:only-of-type {\n",
       "        vertical-align: middle;\n",
       "    }\n",
       "\n",
       "    .dataframe tbody tr th {\n",
       "        vertical-align: top;\n",
       "    }\n",
       "\n",
       "    .dataframe thead th {\n",
       "        text-align: right;\n",
       "    }\n",
       "</style>\n",
       "<table border=\"1\" class=\"dataframe\">\n",
       "  <thead>\n",
       "    <tr style=\"text-align: right;\">\n",
       "      <th></th>\n",
       "      <th>Unnamed: 0</th>\n",
       "      <th>SeriousDlqin2yrs</th>\n",
       "      <th>RevolvingUtilizationOfUnsecuredLines</th>\n",
       "      <th>age</th>\n",
       "      <th>NumberOfTime30-59DaysPastDueNotWorse</th>\n",
       "      <th>DebtRatio</th>\n",
       "      <th>MonthlyIncome</th>\n",
       "      <th>NumberOfOpenCreditLinesAndLoans</th>\n",
       "      <th>NumberOfTimes90DaysLate</th>\n",
       "      <th>NumberRealEstateLoansOrLines</th>\n",
       "      <th>NumberOfTime60-89DaysPastDueNotWorse</th>\n",
       "      <th>NumberOfDependents</th>\n",
       "    </tr>\n",
       "  </thead>\n",
       "  <tbody>\n",
       "    <tr>\n",
       "      <th>0</th>\n",
       "      <td>1</td>\n",
       "      <td>1</td>\n",
       "      <td>0.766127</td>\n",
       "      <td>45</td>\n",
       "      <td>2</td>\n",
       "      <td>0.802982</td>\n",
       "      <td>9120.0</td>\n",
       "      <td>13</td>\n",
       "      <td>0</td>\n",
       "      <td>6</td>\n",
       "      <td>0</td>\n",
       "      <td>2.0</td>\n",
       "    </tr>\n",
       "    <tr>\n",
       "      <th>1</th>\n",
       "      <td>2</td>\n",
       "      <td>0</td>\n",
       "      <td>0.957151</td>\n",
       "      <td>40</td>\n",
       "      <td>0</td>\n",
       "      <td>0.121876</td>\n",
       "      <td>2600.0</td>\n",
       "      <td>4</td>\n",
       "      <td>0</td>\n",
       "      <td>0</td>\n",
       "      <td>0</td>\n",
       "      <td>1.0</td>\n",
       "    </tr>\n",
       "    <tr>\n",
       "      <th>2</th>\n",
       "      <td>3</td>\n",
       "      <td>0</td>\n",
       "      <td>0.658180</td>\n",
       "      <td>38</td>\n",
       "      <td>1</td>\n",
       "      <td>0.085113</td>\n",
       "      <td>3042.0</td>\n",
       "      <td>2</td>\n",
       "      <td>1</td>\n",
       "      <td>0</td>\n",
       "      <td>0</td>\n",
       "      <td>0.0</td>\n",
       "    </tr>\n",
       "    <tr>\n",
       "      <th>3</th>\n",
       "      <td>4</td>\n",
       "      <td>0</td>\n",
       "      <td>0.233810</td>\n",
       "      <td>30</td>\n",
       "      <td>0</td>\n",
       "      <td>0.036050</td>\n",
       "      <td>3300.0</td>\n",
       "      <td>5</td>\n",
       "      <td>0</td>\n",
       "      <td>0</td>\n",
       "      <td>0</td>\n",
       "      <td>0.0</td>\n",
       "    </tr>\n",
       "    <tr>\n",
       "      <th>4</th>\n",
       "      <td>5</td>\n",
       "      <td>0</td>\n",
       "      <td>0.907239</td>\n",
       "      <td>49</td>\n",
       "      <td>1</td>\n",
       "      <td>0.024926</td>\n",
       "      <td>63588.0</td>\n",
       "      <td>7</td>\n",
       "      <td>0</td>\n",
       "      <td>1</td>\n",
       "      <td>0</td>\n",
       "      <td>0.0</td>\n",
       "    </tr>\n",
       "  </tbody>\n",
       "</table>\n",
       "</div>"
      ],
      "text/plain": [
       "   Unnamed: 0  SeriousDlqin2yrs  RevolvingUtilizationOfUnsecuredLines  age  \\\n",
       "0           1                 1                              0.766127   45   \n",
       "1           2                 0                              0.957151   40   \n",
       "2           3                 0                              0.658180   38   \n",
       "3           4                 0                              0.233810   30   \n",
       "4           5                 0                              0.907239   49   \n",
       "\n",
       "   NumberOfTime30-59DaysPastDueNotWorse  DebtRatio  MonthlyIncome  \\\n",
       "0                                     2   0.802982         9120.0   \n",
       "1                                     0   0.121876         2600.0   \n",
       "2                                     1   0.085113         3042.0   \n",
       "3                                     0   0.036050         3300.0   \n",
       "4                                     1   0.024926        63588.0   \n",
       "\n",
       "   NumberOfOpenCreditLinesAndLoans  NumberOfTimes90DaysLate  \\\n",
       "0                               13                        0   \n",
       "1                                4                        0   \n",
       "2                                2                        1   \n",
       "3                                5                        0   \n",
       "4                                7                        0   \n",
       "\n",
       "   NumberRealEstateLoansOrLines  NumberOfTime60-89DaysPastDueNotWorse  \\\n",
       "0                             6                                     0   \n",
       "1                             0                                     0   \n",
       "2                             0                                     0   \n",
       "3                             0                                     0   \n",
       "4                             1                                     0   \n",
       "\n",
       "   NumberOfDependents  \n",
       "0                 2.0  \n",
       "1                 1.0  \n",
       "2                 0.0  \n",
       "3                 0.0  \n",
       "4                 0.0  "
      ]
     },
     "execution_count": 2,
     "metadata": {},
     "output_type": "execute_result"
    }
   ],
   "source": [
    "df = pd.read_csv('Data/cs-training.csv')\n",
    "df.head()"
   ]
  },
  {
   "cell_type": "markdown",
   "metadata": {},
   "source": [
    "#### Exploratory Data Analysis"
   ]
  },
  {
   "cell_type": "code",
   "execution_count": 3,
   "metadata": {},
   "outputs": [
    {
     "data": {
      "text/plain": [
       "Index(['Unnamed: 0', 'SeriousDlqin2yrs',\n",
       "       'RevolvingUtilizationOfUnsecuredLines', 'age',\n",
       "       'NumberOfTime30-59DaysPastDueNotWorse', 'DebtRatio', 'MonthlyIncome',\n",
       "       'NumberOfOpenCreditLinesAndLoans', 'NumberOfTimes90DaysLate',\n",
       "       'NumberRealEstateLoansOrLines', 'NumberOfTime60-89DaysPastDueNotWorse',\n",
       "       'NumberOfDependents'],\n",
       "      dtype='object')"
      ]
     },
     "execution_count": 3,
     "metadata": {},
     "output_type": "execute_result"
    }
   ],
   "source": [
    "df.columns"
   ]
  },
  {
   "cell_type": "code",
   "execution_count": 5,
   "metadata": {},
   "outputs": [
    {
     "name": "stdout",
     "output_type": "stream",
     "text": [
      "<class 'pandas.core.frame.DataFrame'>\n",
      "RangeIndex: 150000 entries, 0 to 149999\n",
      "Data columns (total 12 columns):\n",
      " #   Column                                Non-Null Count   Dtype  \n",
      "---  ------                                --------------   -----  \n",
      " 0   Unnamed: 0                            150000 non-null  int64  \n",
      " 1   SeriousDlqin2yrs                      150000 non-null  int64  \n",
      " 2   RevolvingUtilizationOfUnsecuredLines  150000 non-null  float64\n",
      " 3   age                                   150000 non-null  int64  \n",
      " 4   NumberOfTime30-59DaysPastDueNotWorse  150000 non-null  int64  \n",
      " 5   DebtRatio                             150000 non-null  float64\n",
      " 6   MonthlyIncome                         120269 non-null  float64\n",
      " 7   NumberOfOpenCreditLinesAndLoans       150000 non-null  int64  \n",
      " 8   NumberOfTimes90DaysLate               150000 non-null  int64  \n",
      " 9   NumberRealEstateLoansOrLines          150000 non-null  int64  \n",
      " 10  NumberOfTime60-89DaysPastDueNotWorse  150000 non-null  int64  \n",
      " 11  NumberOfDependents                    146076 non-null  float64\n",
      "dtypes: float64(4), int64(8)\n",
      "memory usage: 13.7 MB\n"
     ]
    }
   ],
   "source": [
    "# Check datatypes and null values\n",
    "df.info()"
   ]
  },
  {
   "cell_type": "code",
   "execution_count": 19,
   "metadata": {},
   "outputs": [
    {
     "data": {
      "text/plain": [
       "Unnamed: 0                               0.00\n",
       "SeriousDlqin2yrs                         0.00\n",
       "RevolvingUtilizationOfUnsecuredLines     0.00\n",
       "age                                      0.00\n",
       "NumberOfTime30-59DaysPastDueNotWorse     0.00\n",
       "DebtRatio                                0.00\n",
       "MonthlyIncome                           19.82\n",
       "NumberOfOpenCreditLinesAndLoans          0.00\n",
       "NumberOfTimes90DaysLate                  0.00\n",
       "NumberRealEstateLoansOrLines             0.00\n",
       "NumberOfTime60-89DaysPastDueNotWorse     0.00\n",
       "NumberOfDependents                       2.62\n",
       "dtype: float64"
      ]
     },
     "execution_count": 19,
     "metadata": {},
     "output_type": "execute_result"
    }
   ],
   "source": [
    "round(df.isnull().mean()*100, 2)"
   ]
  },
  {
   "cell_type": "code",
   "execution_count": 6,
   "metadata": {},
   "outputs": [
    {
     "data": {
      "text/plain": [
       "(150000, 12)"
      ]
     },
     "execution_count": 6,
     "metadata": {},
     "output_type": "execute_result"
    }
   ],
   "source": [
    "# Check shape\n",
    "df.shape"
   ]
  },
  {
   "cell_type": "code",
   "execution_count": 20,
   "metadata": {},
   "outputs": [],
   "source": [
    "# Rename 'Unnamed: 0' column\n",
    "df.rename(columns={'Unnamed: 0': 'CustomerID'}, inplace=True)"
   ]
  },
  {
   "cell_type": "code",
   "execution_count": 22,
   "metadata": {},
   "outputs": [
    {
     "data": {
      "text/html": [
       "<style type=\"text/css\">\n",
       "#T_1b7b1_row0_col0, #T_1b7b1_row0_col1, #T_1b7b1_row0_col2, #T_1b7b1_row0_col3, #T_1b7b1_row0_col4, #T_1b7b1_row0_col5, #T_1b7b1_row0_col6, #T_1b7b1_row1_col0, #T_1b7b1_row2_col0, #T_1b7b1_row3_col0, #T_1b7b1_row4_col0, #T_1b7b1_row5_col0, #T_1b7b1_row6_col7, #T_1b7b1_row7_col0, #T_1b7b1_row8_col0, #T_1b7b1_row9_col0, #T_1b7b1_row10_col0 {\n",
       "  background-color: #cde11d;\n",
       "  color: #000000;\n",
       "}\n",
       "#T_1b7b1_row0_col7 {\n",
       "  background-color: #424186;\n",
       "  color: #f1f1f1;\n",
       "}\n",
       "#T_1b7b1_row1_col1, #T_1b7b1_row1_col2, #T_1b7b1_row1_col3, #T_1b7b1_row1_col4, #T_1b7b1_row1_col5, #T_1b7b1_row1_col6, #T_1b7b1_row1_col7, #T_1b7b1_row2_col1, #T_1b7b1_row2_col3, #T_1b7b1_row2_col4, #T_1b7b1_row2_col5, #T_1b7b1_row2_col6, #T_1b7b1_row3_col1, #T_1b7b1_row3_col2, #T_1b7b1_row3_col3, #T_1b7b1_row3_col4, #T_1b7b1_row3_col5, #T_1b7b1_row3_col6, #T_1b7b1_row3_col7, #T_1b7b1_row4_col1, #T_1b7b1_row4_col2, #T_1b7b1_row4_col3, #T_1b7b1_row4_col4, #T_1b7b1_row4_col5, #T_1b7b1_row4_col6, #T_1b7b1_row4_col7, #T_1b7b1_row5_col3, #T_1b7b1_row5_col4, #T_1b7b1_row5_col5, #T_1b7b1_row5_col6, #T_1b7b1_row6_col0, #T_1b7b1_row6_col3, #T_1b7b1_row7_col1, #T_1b7b1_row7_col2, #T_1b7b1_row7_col3, #T_1b7b1_row7_col4, #T_1b7b1_row7_col5, #T_1b7b1_row7_col6, #T_1b7b1_row7_col7, #T_1b7b1_row8_col1, #T_1b7b1_row8_col2, #T_1b7b1_row8_col3, #T_1b7b1_row8_col4, #T_1b7b1_row8_col5, #T_1b7b1_row8_col6, #T_1b7b1_row8_col7, #T_1b7b1_row9_col1, #T_1b7b1_row9_col2, #T_1b7b1_row9_col3, #T_1b7b1_row9_col4, #T_1b7b1_row9_col5, #T_1b7b1_row9_col6, #T_1b7b1_row9_col7, #T_1b7b1_row10_col1, #T_1b7b1_row10_col2, #T_1b7b1_row10_col3, #T_1b7b1_row10_col4, #T_1b7b1_row10_col5, #T_1b7b1_row10_col6, #T_1b7b1_row10_col7, #T_1b7b1_row11_col1, #T_1b7b1_row11_col2, #T_1b7b1_row11_col3, #T_1b7b1_row11_col4, #T_1b7b1_row11_col5, #T_1b7b1_row11_col6, #T_1b7b1_row11_col7 {\n",
       "  background-color: #453581;\n",
       "  color: #f1f1f1;\n",
       "}\n",
       "#T_1b7b1_row2_col2, #T_1b7b1_row5_col1 {\n",
       "  background-color: #453781;\n",
       "  color: #f1f1f1;\n",
       "}\n",
       "#T_1b7b1_row2_col7 {\n",
       "  background-color: #443983;\n",
       "  color: #f1f1f1;\n",
       "}\n",
       "#T_1b7b1_row5_col2 {\n",
       "  background-color: #424086;\n",
       "  color: #f1f1f1;\n",
       "}\n",
       "#T_1b7b1_row5_col7 {\n",
       "  background-color: #3d4e8a;\n",
       "  color: #f1f1f1;\n",
       "}\n",
       "#T_1b7b1_row6_col1 {\n",
       "  background-color: #3e4989;\n",
       "  color: #f1f1f1;\n",
       "}\n",
       "#T_1b7b1_row6_col2 {\n",
       "  background-color: #297a8e;\n",
       "  color: #f1f1f1;\n",
       "}\n",
       "#T_1b7b1_row6_col4 {\n",
       "  background-color: #3e4a89;\n",
       "  color: #f1f1f1;\n",
       "}\n",
       "#T_1b7b1_row6_col5, #T_1b7b1_row6_col6 {\n",
       "  background-color: #404688;\n",
       "  color: #f1f1f1;\n",
       "}\n",
       "#T_1b7b1_row11_col0 {\n",
       "  background-color: #89d548;\n",
       "  color: #000000;\n",
       "}\n",
       "</style>\n",
       "<table id=\"T_1b7b1\">\n",
       "  <thead>\n",
       "    <tr>\n",
       "      <th class=\"blank level0\" >&nbsp;</th>\n",
       "      <th id=\"T_1b7b1_level0_col0\" class=\"col_heading level0 col0\" >count</th>\n",
       "      <th id=\"T_1b7b1_level0_col1\" class=\"col_heading level0 col1\" >mean</th>\n",
       "      <th id=\"T_1b7b1_level0_col2\" class=\"col_heading level0 col2\" >std</th>\n",
       "      <th id=\"T_1b7b1_level0_col3\" class=\"col_heading level0 col3\" >min</th>\n",
       "      <th id=\"T_1b7b1_level0_col4\" class=\"col_heading level0 col4\" >25%</th>\n",
       "      <th id=\"T_1b7b1_level0_col5\" class=\"col_heading level0 col5\" >50%</th>\n",
       "      <th id=\"T_1b7b1_level0_col6\" class=\"col_heading level0 col6\" >75%</th>\n",
       "      <th id=\"T_1b7b1_level0_col7\" class=\"col_heading level0 col7\" >max</th>\n",
       "    </tr>\n",
       "  </thead>\n",
       "  <tbody>\n",
       "    <tr>\n",
       "      <th id=\"T_1b7b1_level0_row0\" class=\"row_heading level0 row0\" >CustomerID</th>\n",
       "      <td id=\"T_1b7b1_row0_col0\" class=\"data row0 col0\" >150000.000000</td>\n",
       "      <td id=\"T_1b7b1_row0_col1\" class=\"data row0 col1\" >75000.500000</td>\n",
       "      <td id=\"T_1b7b1_row0_col2\" class=\"data row0 col2\" >43301.414527</td>\n",
       "      <td id=\"T_1b7b1_row0_col3\" class=\"data row0 col3\" >1.000000</td>\n",
       "      <td id=\"T_1b7b1_row0_col4\" class=\"data row0 col4\" >37500.750000</td>\n",
       "      <td id=\"T_1b7b1_row0_col5\" class=\"data row0 col5\" >75000.500000</td>\n",
       "      <td id=\"T_1b7b1_row0_col6\" class=\"data row0 col6\" >112500.250000</td>\n",
       "      <td id=\"T_1b7b1_row0_col7\" class=\"data row0 col7\" >150000.000000</td>\n",
       "    </tr>\n",
       "    <tr>\n",
       "      <th id=\"T_1b7b1_level0_row1\" class=\"row_heading level0 row1\" >SeriousDlqin2yrs</th>\n",
       "      <td id=\"T_1b7b1_row1_col0\" class=\"data row1 col0\" >150000.000000</td>\n",
       "      <td id=\"T_1b7b1_row1_col1\" class=\"data row1 col1\" >0.066840</td>\n",
       "      <td id=\"T_1b7b1_row1_col2\" class=\"data row1 col2\" >0.249746</td>\n",
       "      <td id=\"T_1b7b1_row1_col3\" class=\"data row1 col3\" >0.000000</td>\n",
       "      <td id=\"T_1b7b1_row1_col4\" class=\"data row1 col4\" >0.000000</td>\n",
       "      <td id=\"T_1b7b1_row1_col5\" class=\"data row1 col5\" >0.000000</td>\n",
       "      <td id=\"T_1b7b1_row1_col6\" class=\"data row1 col6\" >0.000000</td>\n",
       "      <td id=\"T_1b7b1_row1_col7\" class=\"data row1 col7\" >1.000000</td>\n",
       "    </tr>\n",
       "    <tr>\n",
       "      <th id=\"T_1b7b1_level0_row2\" class=\"row_heading level0 row2\" >RevolvingUtilizationOfUnsecuredLines</th>\n",
       "      <td id=\"T_1b7b1_row2_col0\" class=\"data row2 col0\" >150000.000000</td>\n",
       "      <td id=\"T_1b7b1_row2_col1\" class=\"data row2 col1\" >6.048438</td>\n",
       "      <td id=\"T_1b7b1_row2_col2\" class=\"data row2 col2\" >249.755371</td>\n",
       "      <td id=\"T_1b7b1_row2_col3\" class=\"data row2 col3\" >0.000000</td>\n",
       "      <td id=\"T_1b7b1_row2_col4\" class=\"data row2 col4\" >0.029867</td>\n",
       "      <td id=\"T_1b7b1_row2_col5\" class=\"data row2 col5\" >0.154181</td>\n",
       "      <td id=\"T_1b7b1_row2_col6\" class=\"data row2 col6\" >0.559046</td>\n",
       "      <td id=\"T_1b7b1_row2_col7\" class=\"data row2 col7\" >50708.000000</td>\n",
       "    </tr>\n",
       "    <tr>\n",
       "      <th id=\"T_1b7b1_level0_row3\" class=\"row_heading level0 row3\" >age</th>\n",
       "      <td id=\"T_1b7b1_row3_col0\" class=\"data row3 col0\" >150000.000000</td>\n",
       "      <td id=\"T_1b7b1_row3_col1\" class=\"data row3 col1\" >52.295207</td>\n",
       "      <td id=\"T_1b7b1_row3_col2\" class=\"data row3 col2\" >14.771866</td>\n",
       "      <td id=\"T_1b7b1_row3_col3\" class=\"data row3 col3\" >0.000000</td>\n",
       "      <td id=\"T_1b7b1_row3_col4\" class=\"data row3 col4\" >41.000000</td>\n",
       "      <td id=\"T_1b7b1_row3_col5\" class=\"data row3 col5\" >52.000000</td>\n",
       "      <td id=\"T_1b7b1_row3_col6\" class=\"data row3 col6\" >63.000000</td>\n",
       "      <td id=\"T_1b7b1_row3_col7\" class=\"data row3 col7\" >109.000000</td>\n",
       "    </tr>\n",
       "    <tr>\n",
       "      <th id=\"T_1b7b1_level0_row4\" class=\"row_heading level0 row4\" >NumberOfTime30-59DaysPastDueNotWorse</th>\n",
       "      <td id=\"T_1b7b1_row4_col0\" class=\"data row4 col0\" >150000.000000</td>\n",
       "      <td id=\"T_1b7b1_row4_col1\" class=\"data row4 col1\" >0.421033</td>\n",
       "      <td id=\"T_1b7b1_row4_col2\" class=\"data row4 col2\" >4.192781</td>\n",
       "      <td id=\"T_1b7b1_row4_col3\" class=\"data row4 col3\" >0.000000</td>\n",
       "      <td id=\"T_1b7b1_row4_col4\" class=\"data row4 col4\" >0.000000</td>\n",
       "      <td id=\"T_1b7b1_row4_col5\" class=\"data row4 col5\" >0.000000</td>\n",
       "      <td id=\"T_1b7b1_row4_col6\" class=\"data row4 col6\" >0.000000</td>\n",
       "      <td id=\"T_1b7b1_row4_col7\" class=\"data row4 col7\" >98.000000</td>\n",
       "    </tr>\n",
       "    <tr>\n",
       "      <th id=\"T_1b7b1_level0_row5\" class=\"row_heading level0 row5\" >DebtRatio</th>\n",
       "      <td id=\"T_1b7b1_row5_col0\" class=\"data row5 col0\" >150000.000000</td>\n",
       "      <td id=\"T_1b7b1_row5_col1\" class=\"data row5 col1\" >353.005076</td>\n",
       "      <td id=\"T_1b7b1_row5_col2\" class=\"data row5 col2\" >2037.818523</td>\n",
       "      <td id=\"T_1b7b1_row5_col3\" class=\"data row5 col3\" >0.000000</td>\n",
       "      <td id=\"T_1b7b1_row5_col4\" class=\"data row5 col4\" >0.175074</td>\n",
       "      <td id=\"T_1b7b1_row5_col5\" class=\"data row5 col5\" >0.366508</td>\n",
       "      <td id=\"T_1b7b1_row5_col6\" class=\"data row5 col6\" >0.868254</td>\n",
       "      <td id=\"T_1b7b1_row5_col7\" class=\"data row5 col7\" >329664.000000</td>\n",
       "    </tr>\n",
       "    <tr>\n",
       "      <th id=\"T_1b7b1_level0_row6\" class=\"row_heading level0 row6\" >MonthlyIncome</th>\n",
       "      <td id=\"T_1b7b1_row6_col0\" class=\"data row6 col0\" >120269.000000</td>\n",
       "      <td id=\"T_1b7b1_row6_col1\" class=\"data row6 col1\" >6670.221237</td>\n",
       "      <td id=\"T_1b7b1_row6_col2\" class=\"data row6 col2\" >14384.674215</td>\n",
       "      <td id=\"T_1b7b1_row6_col3\" class=\"data row6 col3\" >0.000000</td>\n",
       "      <td id=\"T_1b7b1_row6_col4\" class=\"data row6 col4\" >3400.000000</td>\n",
       "      <td id=\"T_1b7b1_row6_col5\" class=\"data row6 col5\" >5400.000000</td>\n",
       "      <td id=\"T_1b7b1_row6_col6\" class=\"data row6 col6\" >8249.000000</td>\n",
       "      <td id=\"T_1b7b1_row6_col7\" class=\"data row6 col7\" >3008750.000000</td>\n",
       "    </tr>\n",
       "    <tr>\n",
       "      <th id=\"T_1b7b1_level0_row7\" class=\"row_heading level0 row7\" >NumberOfOpenCreditLinesAndLoans</th>\n",
       "      <td id=\"T_1b7b1_row7_col0\" class=\"data row7 col0\" >150000.000000</td>\n",
       "      <td id=\"T_1b7b1_row7_col1\" class=\"data row7 col1\" >8.452760</td>\n",
       "      <td id=\"T_1b7b1_row7_col2\" class=\"data row7 col2\" >5.145951</td>\n",
       "      <td id=\"T_1b7b1_row7_col3\" class=\"data row7 col3\" >0.000000</td>\n",
       "      <td id=\"T_1b7b1_row7_col4\" class=\"data row7 col4\" >5.000000</td>\n",
       "      <td id=\"T_1b7b1_row7_col5\" class=\"data row7 col5\" >8.000000</td>\n",
       "      <td id=\"T_1b7b1_row7_col6\" class=\"data row7 col6\" >11.000000</td>\n",
       "      <td id=\"T_1b7b1_row7_col7\" class=\"data row7 col7\" >58.000000</td>\n",
       "    </tr>\n",
       "    <tr>\n",
       "      <th id=\"T_1b7b1_level0_row8\" class=\"row_heading level0 row8\" >NumberOfTimes90DaysLate</th>\n",
       "      <td id=\"T_1b7b1_row8_col0\" class=\"data row8 col0\" >150000.000000</td>\n",
       "      <td id=\"T_1b7b1_row8_col1\" class=\"data row8 col1\" >0.265973</td>\n",
       "      <td id=\"T_1b7b1_row8_col2\" class=\"data row8 col2\" >4.169304</td>\n",
       "      <td id=\"T_1b7b1_row8_col3\" class=\"data row8 col3\" >0.000000</td>\n",
       "      <td id=\"T_1b7b1_row8_col4\" class=\"data row8 col4\" >0.000000</td>\n",
       "      <td id=\"T_1b7b1_row8_col5\" class=\"data row8 col5\" >0.000000</td>\n",
       "      <td id=\"T_1b7b1_row8_col6\" class=\"data row8 col6\" >0.000000</td>\n",
       "      <td id=\"T_1b7b1_row8_col7\" class=\"data row8 col7\" >98.000000</td>\n",
       "    </tr>\n",
       "    <tr>\n",
       "      <th id=\"T_1b7b1_level0_row9\" class=\"row_heading level0 row9\" >NumberRealEstateLoansOrLines</th>\n",
       "      <td id=\"T_1b7b1_row9_col0\" class=\"data row9 col0\" >150000.000000</td>\n",
       "      <td id=\"T_1b7b1_row9_col1\" class=\"data row9 col1\" >1.018240</td>\n",
       "      <td id=\"T_1b7b1_row9_col2\" class=\"data row9 col2\" >1.129771</td>\n",
       "      <td id=\"T_1b7b1_row9_col3\" class=\"data row9 col3\" >0.000000</td>\n",
       "      <td id=\"T_1b7b1_row9_col4\" class=\"data row9 col4\" >0.000000</td>\n",
       "      <td id=\"T_1b7b1_row9_col5\" class=\"data row9 col5\" >1.000000</td>\n",
       "      <td id=\"T_1b7b1_row9_col6\" class=\"data row9 col6\" >2.000000</td>\n",
       "      <td id=\"T_1b7b1_row9_col7\" class=\"data row9 col7\" >54.000000</td>\n",
       "    </tr>\n",
       "    <tr>\n",
       "      <th id=\"T_1b7b1_level0_row10\" class=\"row_heading level0 row10\" >NumberOfTime60-89DaysPastDueNotWorse</th>\n",
       "      <td id=\"T_1b7b1_row10_col0\" class=\"data row10 col0\" >150000.000000</td>\n",
       "      <td id=\"T_1b7b1_row10_col1\" class=\"data row10 col1\" >0.240387</td>\n",
       "      <td id=\"T_1b7b1_row10_col2\" class=\"data row10 col2\" >4.155179</td>\n",
       "      <td id=\"T_1b7b1_row10_col3\" class=\"data row10 col3\" >0.000000</td>\n",
       "      <td id=\"T_1b7b1_row10_col4\" class=\"data row10 col4\" >0.000000</td>\n",
       "      <td id=\"T_1b7b1_row10_col5\" class=\"data row10 col5\" >0.000000</td>\n",
       "      <td id=\"T_1b7b1_row10_col6\" class=\"data row10 col6\" >0.000000</td>\n",
       "      <td id=\"T_1b7b1_row10_col7\" class=\"data row10 col7\" >98.000000</td>\n",
       "    </tr>\n",
       "    <tr>\n",
       "      <th id=\"T_1b7b1_level0_row11\" class=\"row_heading level0 row11\" >NumberOfDependents</th>\n",
       "      <td id=\"T_1b7b1_row11_col0\" class=\"data row11 col0\" >146076.000000</td>\n",
       "      <td id=\"T_1b7b1_row11_col1\" class=\"data row11 col1\" >0.757222</td>\n",
       "      <td id=\"T_1b7b1_row11_col2\" class=\"data row11 col2\" >1.115086</td>\n",
       "      <td id=\"T_1b7b1_row11_col3\" class=\"data row11 col3\" >0.000000</td>\n",
       "      <td id=\"T_1b7b1_row11_col4\" class=\"data row11 col4\" >0.000000</td>\n",
       "      <td id=\"T_1b7b1_row11_col5\" class=\"data row11 col5\" >0.000000</td>\n",
       "      <td id=\"T_1b7b1_row11_col6\" class=\"data row11 col6\" >1.000000</td>\n",
       "      <td id=\"T_1b7b1_row11_col7\" class=\"data row11 col7\" >20.000000</td>\n",
       "    </tr>\n",
       "  </tbody>\n",
       "</table>\n"
      ],
      "text/plain": [
       "<pandas.io.formats.style.Styler at 0x2937adc10>"
      ]
     },
     "execution_count": 22,
     "metadata": {},
     "output_type": "execute_result"
    }
   ],
   "source": [
    "# Get descriptive stastistics\n",
    "describe = df.describe()\n",
    "describe.T.style.background_gradient(cmap='viridis', low=0.2, high=0.1)"
   ]
  },
  {
   "cell_type": "code",
   "execution_count": 28,
   "metadata": {},
   "outputs": [
    {
     "data": {
      "text/plain": [
       "Text(0.5, 1.0, 'SeriousDlqin2yrs')"
      ]
     },
     "execution_count": 28,
     "metadata": {},
     "output_type": "execute_result"
    },
    {
     "data": {
      "image/png": "[encoded data removed]",
      "text/plain": [
       "<Figure size 1200x600 with 2 Axes>"
      ]
     },
     "metadata": {},
     "output_type": "display_data"
    }
   ],
   "source": [
    "fig, ax = plt.subplots(1, 2, figsize=(12,6))\n",
    "df['SeriousDlqin2yrs'].value_counts().plot.pie(explode=[0,0.1], autopct='%2.2f%%', ax=ax[0])\n",
    "ax[0].set_title('SeriousDqin2yrs')\n",
    "sns.countplot(x='SeriousDlqin2yrs', data=df, ax=ax[1])\n",
    "ax[1].set_title('SeriousDlqin2yrs')"
   ]
  },
  {
   "cell_type": "code",
   "execution_count": 29,
   "metadata": {},
   "outputs": [
    {
     "data": {
      "text/plain": [
       "0    139974\n",
       "1     10026\n",
       "Name: SeriousDlqin2yrs, dtype: int64"
      ]
     },
     "execution_count": 29,
     "metadata": {},
     "output_type": "execute_result"
    }
   ],
   "source": [
    "df['SeriousDlqin2yrs'].value_counts()"
   ]
  },
  {
   "cell_type": "code",
   "execution_count": 30,
   "metadata": {},
   "outputs": [
    {
     "name": "stdout",
     "output_type": "stream",
     "text": [
      "6.68% of borrowers are seriously deliqeunt\n"
     ]
    }
   ],
   "source": [
    "print(f\"{(df['SeriousDlqin2yrs'].sum()/len(df))*100:.3}% of borrowers are seriously deliqeunt\")"
   ]
  },
  {
   "cell_type": "markdown",
   "metadata": {},
   "source": [
    "#### Data Preprocessing"
   ]
  },
  {
   "cell_type": "code",
   "execution_count": null,
   "metadata": {},
   "outputs": [],
   "source": []
  },
  {
   "cell_type": "markdown",
   "metadata": {},
   "source": [
    "#### Model Training and Experimentation"
   ]
  },
  {
   "cell_type": "code",
   "execution_count": null,
   "metadata": {},
   "outputs": [],
   "source": []
  },
  {
   "cell_type": "markdown",
   "metadata": {},
   "source": [
    "#### Hyperparameter Tuning"
   ]
  },
  {
   "cell_type": "code",
   "execution_count": null,
   "metadata": {},
   "outputs": [],
   "source": []
  },
  {
   "cell_type": "markdown",
   "metadata": {},
   "source": [
    "#### Model Interpretation"
   ]
  },
  {
   "cell_type": "code",
   "execution_count": null,
   "metadata": {},
   "outputs": [],
   "source": []
  }
 ],
 "metadata": {
  "kernelspec": {
   "display_name": "Python 3.8.13 ('mlenv')",
   "language": "python",
   "name": "python3"
  },
  "language_info": {
   "codemirror_mode": {
    "name": "ipython",
    "version": 3
   },
   "file_extension": ".py",
   "mimetype": "text/x-python",
   "name": "python",
   "nbconvert_exporter": "python",
   "pygments_lexer": "ipython3",
   "version": "3.8.13"
  },
  "orig_nbformat": 4,
  "vscode": {
   "interpreter": {
    "hash": "b70179fab6876b7c595114bbc672b8e83584a7ba0b944e182b5db9aa757417c5"
   }
  }
 },
 "nbformat": 4,
 "nbformat_minor": 2
}
